{
  "cells": [
    {
      "cell_type": "code",
      "source": [
        "import pandas as pd"
      ],
      "outputs": [],
      "execution_count": 1,
      "metadata": {}
    },
    {
      "cell_type": "code",
      "source": [
        "N_H=9\n",
        "hit = pd.read_csv('/Users/jgdwyer/Dropbox/fun/jabo2019/baseball-H2H-AuctionValues/source_data/2018_team_totals_hitters.csv', index_col=0)\n",
        "import scipy\n",
        "from scipy import stats\n",
        "from sklearn.linear_model import LinearRegression, Lasso\n",
        "hit_sgp = pd.DataFrame(columns=hit.columns, index=['slope','intercept'])\n",
        "for col in hit.columns: \n",
        "    if col == 'ERA' or col == 'WHIP':\n",
        "        ascending=False\n",
        "    else:\n",
        "        ascending=True\n",
        "    slope, intercept, r_value, p_value, std_err = (\n",
        "        scipy.stats.linregress(range(1, 15),hit[col].sort_values(ascending=ascending).reset_index(drop=True)))\n",
        "    \n",
        "    hit_sgp.loc['slope', col] = slope\n",
        "    hit_sgp.loc['intercept', col] = intercept"
      ],
      "outputs": [],
      "execution_count": 47,
      "metadata": {}
    },
    {
      "cell_type": "code",
      "source": [
        "import numpy as np"
      ],
      "outputs": [],
      "execution_count": 48,
      "metadata": {
        "collapsed": false,
        "outputHidden": false,
        "inputHidden": false
      }
    },
    {
      "cell_type": "code",
      "source": [
        "import matplotlib.pyplot as plt\n",
        "%matplotlib inline\n",
        "col='SB'\n",
        "if col == 'ERA' or col == 'WHIP':\n",
        "    ascending=False\n",
        "else:\n",
        "    ascending=True\n",
        "plt.plot(np.arange(1, 15), hit[col].sort_values(ascending=ascending).reset_index(drop=True) ,marker='o', ls='')\n",
        "plt.plot(np.arange(1,15), hit_sgp.loc['intercept', col] + np.arange(1,15)*hit_sgp.loc['slope', col])\n",
        "# hit_sgp"
      ],
      "outputs": [
        {
          "output_type": "execute_result",
          "execution_count": 50,
          "data": {
            "text/plain": [
              "[<matplotlib.lines.Line2D at 0x10fadd410>]"
            ]
          },
          "metadata": {}
        },
        {
          "output_type": "display_data",
          "data": {
            "image/png": "[encoded data removed]",
            "text/plain": [
              "<matplotlib.figure.Figure at 0x10f92c1d0>"
            ]
          },
          "metadata": {}
        }
      ],
      "execution_count": 50,
      "metadata": {}
    },
    {
      "cell_type": "code",
      "source": [
        "hit_sgp"
      ],
      "outputs": [
        {
          "output_type": "execute_result",
          "execution_count": 51,
          "data": {
            "text/html": [
              "<div>\n",
              "<style scoped>\n",
              "    .dataframe tbody tr th:only-of-type {\n",
              "        vertical-align: middle;\n",
              "    }\n",
              "\n",
              "    .dataframe tbody tr th {\n",
              "        vertical-align: top;\n",
              "    }\n",
              "\n",
              "    .dataframe thead th {\n",
              "        text-align: right;\n",
              "    }\n",
              "</style>\n",
              "<table border=\"1\" class=\"dataframe\">\n",
              "  <thead>\n",
              "    <tr style=\"text-align: right;\">\n",
              "      <th></th>\n",
              "      <th>BA</th>\n",
              "      <th>OBP</th>\n",
              "      <th>R</th>\n",
              "      <th>SB</th>\n",
              "      <th>RBI</th>\n",
              "      <th>HR</th>\n",
              "      <th>TB</th>\n",
              "      <th>SLG</th>\n",
              "    </tr>\n",
              "  </thead>\n",
              "  <tbody>\n",
              "    <tr>\n",
              "      <th>slope</th>\n",
              "      <td>0.00272747</td>\n",
              "      <td>0.0029011</td>\n",
              "      <td>15.1437</td>\n",
              "      <td>5.28967</td>\n",
              "      <td>15.8182</td>\n",
              "      <td>5.43473</td>\n",
              "      <td>48.2598</td>\n",
              "      <td>0.00375385</td>\n",
              "    </tr>\n",
              "    <tr>\n",
              "      <th>intercept</th>\n",
              "      <td>0.241044</td>\n",
              "      <td>0.314385</td>\n",
              "      <td>604.722</td>\n",
              "      <td>43.7703</td>\n",
              "      <td>576.642</td>\n",
              "      <td>165.254</td>\n",
              "      <td>1883.15</td>\n",
              "      <td>0.420275</td>\n",
              "    </tr>\n",
              "  </tbody>\n",
              "</table>\n",
              "</div>"
            ],
            "text/plain": [
              "                   BA        OBP        R       SB      RBI       HR       TB  \\\n",
              "slope      0.00272747  0.0029011  15.1437  5.28967  15.8182  5.43473  48.2598   \n",
              "intercept    0.241044   0.314385  604.722  43.7703  576.642  165.254  1883.15   \n",
              "\n",
              "                  SLG  \n",
              "slope      0.00375385  \n",
              "intercept    0.420275  "
            ]
          },
          "metadata": {}
        }
      ],
      "execution_count": 51,
      "metadata": {}
    },
    {
      "cell_type": "code",
      "source": [
        "!ls"
      ],
      "outputs": [
        {
          "output_type": "stream",
          "name": "stdout",
          "text": [
            "LICENSE.txt      Untitled1.ipynb  df.csv           \u001b[1m\u001b[34msource_data\u001b[m\u001b[m\r\n",
            "README.md        \u001b[1m\u001b[34mbaseball\u001b[m\u001b[m         \u001b[1m\u001b[34moutput\u001b[m\u001b[m\r\n",
            "Untitled.ipynb   cat.p            requirements.txt\r\n"
          ]
        }
      ],
      "execution_count": 46,
      "metadata": {
        "collapsed": false,
        "outputHidden": false,
        "inputHidden": false
      }
    },
    {
      "cell_type": "code",
      "source": [
        "hit_sgp.to_csv('./source_data/sgp_thresh_lastyear_values_H.csv', index=False)"
      ],
      "outputs": [],
      "execution_count": 45,
      "metadata": {}
    },
    {
      "cell_type": "code",
      "source": [
        "sort_key = pd.Series(pos_offsets).sort_values()\n",
        "sorted(['2B', 'U'], key=lambda x: sort_key[x])[0]"
      ],
      "outputs": [
        {
          "output_type": "execute_result",
          "execution_count": 85,
          "data": {
            "text/plain": [
              "'2B'"
            ]
          },
          "metadata": {}
        }
      ],
      "execution_count": 85,
      "metadata": {}
    },
    {
      "cell_type": "code",
      "source": [
        "pos_offsets = {'C': -6.495901095455834, 'SS': 0.4498213372240938, '2B': 0.3713500858289853, '3B': 2.3245547497915267, 'CF': 2.1983041054264563, 'LF': 1.302715110948761, 'RF': 1.920148110166175, '1B': 2.2798699732252903, 'U': 2.060807822722109}\n",
        "sgp_pos_add_sort = sorted(pos_offsets.items(), key=lambda pos_offsets: pos_offsets[1], reverse=True) # largest to smallest\n",
        "sgp_pos_add_sort"
      ],
      "outputs": [
        {
          "output_type": "execute_result",
          "execution_count": 72,
          "data": {
            "text/plain": [
              "[('3B', 2.3245547497915267),\n",
              " ('1B', 2.2798699732252903),\n",
              " ('CF', 2.1983041054264563),\n",
              " ('U', 2.060807822722109),\n",
              " ('RF', 1.920148110166175),\n",
              " ('LF', 1.302715110948761),\n",
              " ('SS', 0.4498213372240938),\n",
              " ('2B', 0.3713500858289853),\n",
              " ('C', -6.495901095455834)]"
            ]
          },
          "metadata": {}
        }
      ],
      "execution_count": 72,
      "metadata": {}
    },
    {
      "cell_type": "code",
      "source": [
        "a=pd.Series(index=['U', 'Uonly', '1B', 'RF', 'LF', 'CF', '3B', '2B', 'SS', 'C'])"
      ],
      "outputs": [],
      "execution_count": 39,
      "metadata": {}
    },
    {
      "cell_type": "code",
      "source": [
        "a['3B'] = 1\n",
        "a['U'] = 0\n",
        "a['2B'] = 0\n",
        "a['SS']= 0"
      ],
      "outputs": [],
      "execution_count": 53,
      "metadata": {}
    },
    {
      "cell_type": "code",
      "source": [
        "b=list(a[a==a.min()].index)\n",
        "print(b)"
      ],
      "outputs": [
        {
          "output_type": "stream",
          "name": "stdout",
          "text": [
            "['U', '2B', 'SS']\n"
          ]
        }
      ],
      "execution_count": 57,
      "metadata": {}
    },
    {
      "cell_type": "code",
      "source": [
        "['U', 'Uonly', '1B', 'RF', 'LF', 'CF', '3B', '2B', 'SS', 'C']\n",
        "sort_order = {'C': 0, 'SS': 1, '2B': 2, '3B': 3, 'CF': 4, 'LF': 5, 'RF': 6, '1B': 7, 'Uonly': 8, 'U': 9}\n",
        "# b.sort(key=lambda x: sort_order[x])\n",
        "c=sorted(b, key=lambda x: sort_order[x])[0]\n",
        "print(c)"
      ],
      "outputs": [
        {
          "output_type": "stream",
          "name": "stdout",
          "text": [
            "SS\n"
          ]
        }
      ],
      "execution_count": 58,
      "metadata": {}
    },
    {
      "cell_type": "code",
      "source": [
        "hit = pd.read_csv('/Users/jgdwyer/Dropbox/fun/jabo2018/source_data/2017_team_totals_hitters.csv', index_col=0)\n",
        "%matplotlib inline\n",
        "# hit['HR'].hist()\n",
        "hit.hist()"
      ],
      "outputs": [
        {
          "output_type": "execute_result",
          "execution_count": 20,
          "data": {
            "text/plain": [
              "array([[<matplotlib.axes._subplots.AxesSubplot object at 0x113015da0>,\n",
              "        <matplotlib.axes._subplots.AxesSubplot object at 0x11368a6a0>,\n",
              "        <matplotlib.axes._subplots.AxesSubplot object at 0x11363df60>],\n",
              "       [<matplotlib.axes._subplots.AxesSubplot object at 0x1137474a8>,\n",
              "        <matplotlib.axes._subplots.AxesSubplot object at 0x1136ec3c8>,\n",
              "        <matplotlib.axes._subplots.AxesSubplot object at 0x1136ec5f8>],\n",
              "       [<matplotlib.axes._subplots.AxesSubplot object at 0x113860780>,\n",
              "        <matplotlib.axes._subplots.AxesSubplot object at 0x1138d3eb8>,\n",
              "        <matplotlib.axes._subplots.AxesSubplot object at 0x11393c198>]],\n",
              "      dtype=object)"
            ]
          },
          "metadata": {}
        },
        {
          "output_type": "display_data",
          "data": {
            "image/png": "[encoded data removed]",
            "text/plain": [
              "<matplotlib.figure.Figure at 0x112fcf630>"
            ]
          },
          "metadata": {}
        }
      ],
      "execution_count": 20,
      "metadata": {}
    },
    {
      "cell_type": "code",
      "source": [
        "df= pd.read_csv('df.csv', index_col=0)"
      ],
      "outputs": [],
      "execution_count": 94,
      "metadata": {}
    },
    {
      "cell_type": "code",
      "source": [
        "cat_offsets=pd.read_pickle('./cat.p')"
      ],
      "outputs": [],
      "execution_count": 97,
      "metadata": {}
    },
    {
      "cell_type": "code",
      "source": [
        "out2 = calcSGPHitters(out, cat_offsets)"
      ],
      "outputs": [],
      "execution_count": 160,
      "metadata": {}
    },
    {
      "cell_type": "code",
      "source": [
        "cat_offsets, pos_offsets, star_thresh = calcPositionOffsets(cat_offsets, out)"
      ],
      "outputs": [
        {
          "output_type": "stream",
          "name": "stdout",
          "text": [
            "                Name          Team    G   PA   AB    H  2B  3B  HR    R  \\\n",
            "0         Mike Trout        Angels  155  651  524  162  32   3  39  114   \n",
            "1  Giancarlo Stanton       Yankees  150  630  541  155  25   1  57  111   \n",
            "2       Bryce Harper     Nationals  147  616  505  152  30   1  37  100   \n",
            "3      Nolan Arenado       Rockies  158  665  596  176  38   5  40  101   \n",
            "4   Paul Goldschmidt  Diamondbacks  157  658  543  158  33   3  32   99   \n",
            "\n",
            "     ...          wSLG      sAVG      sOBP      sSLG       sHR        sR  \\\n",
            "0    ...      0.016778  3.412995  6.111302  3.528794  2.570014  3.351517   \n",
            "1    ...      0.022839  1.785050  2.749289  4.684093  4.999459  3.118869   \n",
            "2    ...      0.013994  2.750869  4.934367  2.997909  2.300076  2.265825   \n",
            "3    ...      0.014874  2.592297  1.580612  3.165719  2.704983  2.343375   \n",
            "4    ...      0.009428  2.125324  4.456585  2.127488  1.625230  2.188276   \n",
            "\n",
            "       sRBI      sSB       sTB        SGP  \n",
            "0  2.339009  2.47920  2.283610  26.076441  \n",
            "1  3.948916 -0.02226  3.185030  24.448447  \n",
            "2  1.967492  0.95053  1.732742  19.899811  \n",
            "3  2.834365  0.11671  2.959675  18.297737  \n",
            "4  1.719814  1.78435  1.682663  17.709731  \n",
            "\n",
            "[5 rows x 47 columns]\n"
          ]
        }
      ],
      "execution_count": 158,
      "metadata": {}
    },
    {
      "cell_type": "code",
      "source": [
        "out2['SGP'][:14*9].sum()/91/8"
      ],
      "outputs": [
        {
          "output_type": "execute_result",
          "execution_count": 153,
          "data": {
            "text/plain": [
              "1.0757106929660114"
            ]
          },
          "metadata": {}
        }
      ],
      "execution_count": 153,
      "metadata": {}
    },
    {
      "cell_type": "code",
      "source": [
        "cat_offsets"
      ],
      "outputs": [
        {
          "output_type": "execute_result",
          "execution_count": 159,
          "data": {
            "text/html": [
              "<div>\n",
              "<style scoped>\n",
              "    .dataframe tbody tr th:only-of-type {\n",
              "        vertical-align: middle;\n",
              "    }\n",
              "\n",
              "    .dataframe tbody tr th {\n",
              "        vertical-align: top;\n",
              "    }\n",
              "\n",
              "    .dataframe thead th {\n",
              "        text-align: right;\n",
              "    }\n",
              "</style>\n",
              "<table border=\"1\" class=\"dataframe\">\n",
              "  <thead>\n",
              "    <tr style=\"text-align: right;\">\n",
              "      <th></th>\n",
              "      <th>sAVG</th>\n",
              "      <th>sHR</th>\n",
              "      <th>sOBP</th>\n",
              "      <th>sR</th>\n",
              "      <th>sRBI</th>\n",
              "      <th>sSB</th>\n",
              "      <th>sSLG</th>\n",
              "      <th>sTB</th>\n",
              "    </tr>\n",
              "  </thead>\n",
              "  <tbody>\n",
              "    <tr>\n",
              "      <th>0</th>\n",
              "      <td>-0.308248</td>\n",
              "      <td>0.487982</td>\n",
              "      <td>-1.033137</td>\n",
              "      <td>-0.966252</td>\n",
              "      <td>-0.353746</td>\n",
              "      <td>-0.719854</td>\n",
              "      <td>-0.33016</td>\n",
              "      <td>-1.065191</td>\n",
              "    </tr>\n",
              "  </tbody>\n",
              "</table>\n",
              "</div>"
            ],
            "text/plain": [
              "       sAVG       sHR      sOBP        sR      sRBI       sSB     sSLG  \\\n",
              "0 -0.308248  0.487982 -1.033137 -0.966252 -0.353746 -0.719854 -0.33016   \n",
              "\n",
              "        sTB  \n",
              "0 -1.065191  "
            ]
          },
          "metadata": {}
        }
      ],
      "execution_count": 159,
      "metadata": {}
    },
    {
      "cell_type": "code",
      "source": [
        "star_thresh"
      ],
      "outputs": [
        {
          "output_type": "execute_result",
          "execution_count": 151,
          "data": {
            "text/plain": [
              "{'sAVG': -1.4210854715202004e-14,\n",
              " 'sHR': 1.4210854715202004e-14,\n",
              " 'sOBP': 1.4210854715202004e-14,\n",
              " 'sR': -4.263256414560601e-14,\n",
              " 'sRBI': -2.842170943040401e-14,\n",
              " 'sSB': 0.0,\n",
              " 'sSLG': 0.0,\n",
              " 'sTB': -2.842170943040401e-14}"
            ]
          },
          "metadata": {}
        }
      ],
      "execution_count": 151,
      "metadata": {}
    },
    {
      "cell_type": "code",
      "source": [
        "pos_offsets"
      ],
      "outputs": [
        {
          "output_type": "execute_result",
          "execution_count": 133,
          "data": {
            "text/plain": [
              "{'1B': 2.0564904318475583,\n",
              " '2B': -0.0210954341750913,\n",
              " '3B': 1.163812060411236,\n",
              " 'C': -6.073956854147543,\n",
              " 'CF': 1.723150516397716,\n",
              " 'LF': 1.6508726034466132,\n",
              " 'RF': 1.6934956078129948,\n",
              " 'SS': 0.036244637844293104,\n",
              " 'U': 1.5351473423015418}"
            ]
          },
          "metadata": {}
        }
      ],
      "execution_count": 133,
      "metadata": {}
    },
    {
      "cell_type": "code",
      "source": [
        "\n",
        "N_teams = 14\n",
        "N_activehitters = 9\n",
        "N_SP = 8\n",
        "N_RP = 4\n",
        "budget = 260\n",
        "frac_hitter_budget = 0.5\n",
        "frac_pitcher_budget = 1 - frac_hitter_budget\n",
        "\n",
        "def load_sgp_thresh_last_year(players):\n",
        "    \"\"\"Get the SGP replacement level headers from the matlab script\n",
        "    (Get_SGP_thresholds_from_lastyeardata.m)\"\"\"\n",
        "    return pd.read_csv('./source_data/sgp_thresh_lastyear_values_' + players + '.csv')\n",
        "\n",
        "def calcSGPHitters(df, cat_offsets):\n",
        "    \"\"\"Calculates SGP values for hitters\"\"\"\n",
        "    # Get the SGP replacement level headers from the matlab script (Get_SGP_thresholds_from_lastyeardata.m)\n",
        "    sgp = load_sgp_thresh_last_year('H')\n",
        "    # Sort the data\n",
        "    df = df.sort_values(by='wOBA', ascending=False)\n",
        "    # Keep only the top players for calculating averages for rate categories\n",
        "    top_hitters = df.head(N_activehitters * N_teams)\n",
        "    # Calculate \"wAVG\"\n",
        "    numer = (N_activehitters - 1) * top_hitters['H'].mean() + df['H']\n",
        "    denom = (N_activehitters - 1) * top_hitters['AB'].mean() + df['AB']\n",
        "    df['wAVG'] = numer/denom - top_hitters['AVG'].mean()\n",
        "    # Calculate wOBA\n",
        "    monbase = top_hitters['PA'].mean() * top_hitters['OBP'].mean()\n",
        "    numer = (N_activehitters - 1) * monbase + df['H'] + df['BB'] + df['HBP']\n",
        "    denom = (N_activehitters - 1) * top_hitters['PA'].mean() + df['PA']\n",
        "    df['wOBP'] = numer/denom - top_hitters['OBP'].mean()\n",
        "    # Calculate wSLG\n",
        "    numer = (N_activehitters - 1) * top_hitters['TB'].mean() + df['TB']\n",
        "    denom = (N_activehitters - 1) * top_hitters['AB'].mean() + df['AB']\n",
        "    df['wSLG'] = numer/denom - top_hitters['SLG'].mean()\n",
        "    # Now get the sgp by dividing by the values calculated from last year's totals\n",
        "    for cat in ['AVG', 'OBP', 'SLG']:\n",
        "        df['s' + cat] = df['w' + cat] / sgp[cat][0] - cat_offsets['s' + cat][0]\n",
        "    for cat in ['HR', 'R', 'RBI', 'SB', 'TB']:\n",
        "        df['s' + cat] = (df[cat] - sgp[cat][1]) / sgp[cat][0] - cat_offsets['s' + cat][0]\n",
        "    # Sum up all of these entries to get the total SGP\n",
        "    df['SGP'] = df[['sAVG', 'sOBP', 'sSLG', 'sHR',\n",
        "                    'sR', 'sRBI', 'sSB', 'sTB']].sum(axis=1)\n",
        "    # Now sort by total SGP descending\n",
        "    df = df.sort_values(by='SGP', ascending=False)\n",
        "    return df.reset_index(drop=True)"
      ],
      "outputs": [],
      "execution_count": 99,
      "metadata": {}
    },
    {
      "cell_type": "code",
      "source": [
        "def calcPositionOffsets(cat_offsets, df):\n",
        "    \"\"\"Calculate the position offset values.\n",
        "    Go through all hitters in order of SGP and assign them positions. It doesn't\n",
        "    actually matter what list a player is assigned to. The point is to get\n",
        "    replacement values\"\"\"\n",
        "    # Initiailize each list by putting in the best hitter (will remove later)\n",
        "    meta_ranked = [m: pd.DataFrame(columns=df.columns) for m in ['U', 'Uonly', '1B', 'RF', 'LF', 'CF', '3B', '2B', 'SS', 'C']]\n",
        "    #     meta_ranked = dict()\n",
        "#     for m in ['U', 'Uonly', '1B', 'RF', 'LF', 'CF', '3B', '2B', 'SS', 'C']:\n",
        "#         meta_ranked[m] = df.head(1)\n",
        "    print(df.head())\n",
        "    for _, row in df.iterrows():\n",
        "        # Get the sgp of the player in this row\n",
        "        sgp = row['SGP']\n",
        "        # now get the rank of the available positions\n",
        "        posrank = dict()\n",
        "        # Loop over all positions this player is eligible at\n",
        "        # Get the SGP of all players at each eligible position\n",
        "        for pos in row['position'].split(','):\n",
        "            sgpofcolumn = meta_ranked[pos]['SGP'].get_values()\n",
        "            # For each eligible position, find out how many players are better (by SGP)\n",
        "            posrank[pos] = get_rank(sgpofcolumn, sgp)\n",
        "        # Get which position the player would be the next best at by finding the\n",
        "        # one with the least number of better players at it\n",
        "        highest = min(posrank.values())\n",
        "        bestposits = [k for k, v in posrank.items() if v == highest]\n",
        "        # In the case of ties, go down the defensive spectrum\n",
        "        # Values overwrite each other so the toughest to fill position is left at the end\n",
        "        for pp in ['U', 'Uonly', '1B', 'RF', 'LF', 'CF', '3B', '2B', 'SS', 'C']:\n",
        "            if pp in bestposits:\n",
        "                bestpos = pp\n",
        "        # Finally add the row to the end of the correct dataframe\n",
        "        meta_ranked[bestpos] = meta_ranked[bestpos].append(row, ignore_index='True')\n",
        "    # Now remove the initialized value of the best hitter in each list\n",
        "#     for m in meta_ranked:\n",
        "#         meta_ranked[m] = meta_ranked[m].drop(0)\n",
        "#         meta_ranked[m] = meta_ranked[m].reset_index(drop=True)\n",
        "    sgp = load_sgp_thresh_last_year('H')\n",
        "    # also need to account for the bench hitters. assume every team carries 3.\n",
        "    # then 42 extra hitters. more than 4 teams worth\n",
        "    star_thresh = dict()\n",
        "    # We need to normalize SGP so that the total available SGP of all hitters is\n",
        "    # the number of points that can be gained (i.e., for each category, there are\n",
        "    # 14 teams, so there are 13 points to be gained in each for each)\n",
        "    sgp_new = dict()\n",
        "    for sgpcat in ['sAVG', 'sOBP', 'sSLG', 'sHR', 'sR', 'sRBI', 'sSB', 'sTB']:\n",
        "        # loop over hitting categories\n",
        "        star = 0\n",
        "        for pos in ['U', '1B', 'RF', 'LF', 'CF', '3B', '2B', 'SS', 'C']:  # NO UONLY\n",
        "            #Load the sum of SGP for each category at each position\n",
        "            star += meta_ranked[pos][sgpcat][:N_teams].sum()\n",
        "        # We're aiming to minimize this total in order that the sum of points of\n",
        "        # all the owned players represents the correct\n",
        "        # Use sum(i=1:N,i)=(N+1)N/2\n",
        "        # Total SGP available: Team A can gain 13pnts, Team B can gain 12pnts, etc.\n",
        "        # total number of sgp that can be gained by all teams..each category should have the same # ofthese\n",
        "        # N_teams not N_teams+4\n",
        "        star_thresh[sgpcat] = star - N_teams*(N_teams-1)/2\n",
        "        # N_teams-1    #N_teams*(N_teams-1)/2\n",
        "        # This is the offset threshold that gets added on so that the total number of category points are right\n",
        "        # This gets added in to the old values\n",
        "        # Divide the difference by the total number of active players since all  will be contributing to the category\n",
        "        cat_offsets[sgpcat] += star_thresh[sgpcat] / (N_teams * N_activehitters)\n",
        "    # Get the positional difference by looking at the value of the last player\n",
        "    pos_offsets = dict()\n",
        "    for pos in ['U', '1B', 'RF', 'LF', 'CF', '3B', '2B','SS', 'C']:\n",
        "        # TODO: These don't seem to be normalized correctly\n",
        "        pos_offsets[pos] = meta_ranked[pos]['SGP'][N_teams-1]\n",
        "        # pos_offsets[pos] = meta_ranked[pos]['SGP'][:(N_teams-1)].mean()\n",
        "    return cat_offsets, pos_offsets, star_thresh\n",
        "\n\n",
        "def get_rank(listo, sgp):\n",
        "    \"\"\"returns the index of the first item in a sorted list (must be descending)\n",
        "     whose value is less than an input value\"\"\"\n",
        "    # Get the first item in the list whose value falls under the entered one\n",
        "    try:\n",
        "        index = next(index for index, value in enumerate(listo) if value < sgp)\n",
        "    # If we reach the end of the list use the last entry as the index\n",
        "    except StopIteration:\n",
        "        index = len(listo)\n",
        "    # If the largest value in the list is the first one below the input value,\n",
        "    # return an empty string. This is meant for the case in which the player\n",
        "    # is the best at their position and accounts for players being placed at\n",
        "    # U when they should really go to another list\n",
        "    if index == 0:\n",
        "        index = ''\n",
        "    return index"
      ],
      "outputs": [
        {
          "output_type": "error",
          "ename": "SyntaxError",
          "evalue": "invalid syntax (<ipython-input-155-adf398700246>, line 7)",
          "traceback": [
            "\u001b[0;36m  File \u001b[0;32m\"<ipython-input-155-adf398700246>\"\u001b[0;36m, line \u001b[0;32m7\u001b[0m\n\u001b[0;31m    meta_ranked = [m: pd.DataFrame(columns=df.columns) for m in ['U', 'Uonly', '1B', 'RF', 'LF', 'CF', '3B', '2B', 'SS', 'C']]\u001b[0m\n\u001b[0m                    ^\u001b[0m\n\u001b[0;31mSyntaxError\u001b[0m\u001b[0;31m:\u001b[0m invalid syntax\n"
          ]
        }
      ],
      "execution_count": 155,
      "metadata": {}
    }
  ],
  "metadata": {
    "kernelspec": {
      "name": "python3",
      "language": "python",
      "display_name": "Python 3"
    },
    "language_info": {
      "mimetype": "text/x-python",
      "nbconvert_exporter": "python",
      "name": "python",
      "pygments_lexer": "ipython2",
      "version": "2.7.14",
      "file_extension": ".py",
      "codemirror_mode": {
        "version": 2,
        "name": "ipython"
      }
    },
    "kernel_info": {
      "name": "python3"
    },
    "nteract": {
      "version": "0.12.3"
    }
  },
  "nbformat": 4,
  "nbformat_minor": 2
}